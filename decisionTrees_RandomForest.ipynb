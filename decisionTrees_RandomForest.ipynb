{
  "cells": [
    {
      "cell_type": "markdown",
      "metadata": {
        "id": "wjn1D29rIDQs"
      },
      "source": [
        "## Coding Exercise #0312"
      ]
    },
    {
      "cell_type": "markdown",
      "metadata": {
        "id": "7sqrHDGOIDQv"
      },
      "source": [
        "### 1. Compare the Tree-like algorithms:"
      ]
    },
    {
      "cell_type": "code",
      "execution_count": 1,
      "metadata": {
        "id": "SpT0vR_NIDQv"
      },
      "outputs": [],
      "source": [
        "import numpy as np\n",
        "import pandas as pd\n",
        "import matplotlib.pyplot as plt\n",
        "import warnings\n",
        "from sklearn.model_selection import train_test_split,GridSearchCV\n",
        "from sklearn.tree import DecisionTreeClassifier\n",
        "from sklearn.ensemble import RandomForestClassifier\n",
        "from sklearn.ensemble import AdaBoostClassifier\n",
        "from sklearn import metrics\n",
        "from sklearn.datasets import load_digits\n",
        "from scipy.ndimage.interpolation import rotate\n",
        "warnings.filterwarnings(action='ignore')                  # Turn off the warnings.\n",
        "%matplotlib inline"
      ]
    },
    {
      "cell_type": "markdown",
      "metadata": {
        "id": "EDYP6PDJIDQx"
      },
      "source": [
        "#### 1.1. Read in data and explore:"
      ]
    },
    {
      "cell_type": "code",
      "execution_count": 2,
      "metadata": {
        "id": "U3qztHxYIDQx"
      },
      "outputs": [],
      "source": [
        "data = load_digits()"
      ]
    },
    {
      "cell_type": "code",
      "execution_count": 3,
      "metadata": {
        "id": "R_8uF6cYIDQx",
        "colab": {
          "base_uri": "https://localhost:8080/"
        },
        "outputId": "77857f1a-41db-4d3a-dcd7-76ace4b2761f"
      },
      "outputs": [
        {
          "output_type": "stream",
          "name": "stdout",
          "text": [
            ".. _digits_dataset:\n",
            "\n",
            "Optical recognition of handwritten digits dataset\n",
            "--------------------------------------------------\n",
            "\n",
            "**Data Set Characteristics:**\n",
            "\n",
            "    :Number of Instances: 1797\n",
            "    :Number of Attributes: 64\n",
            "    :Attribute Information: 8x8 image of integer pixels in the range 0..16.\n",
            "    :Missing Attribute Values: None\n",
            "    :Creator: E. Alpaydin (alpaydin '@' boun.edu.tr)\n",
            "    :Date: July; 1998\n",
            "\n",
            "This is a copy of the test set of the UCI ML hand-written digits datasets\n",
            "https://archive.ics.uci.edu/ml/datasets/Optical+Recognition+of+Handwritten+Digits\n",
            "\n",
            "The data set contains images of hand-written digits: 10 classes where\n",
            "each class refers to a digit.\n",
            "\n",
            "Preprocessing programs made available by NIST were used to extract\n",
            "normalized bitmaps of handwritten digits from a preprinted form. From a\n",
            "total of 43 people, 30 contributed to the training set and different 13\n",
            "to the test set. 32x32 bitmaps are divided into nonoverlapping blocks of\n",
            "4x4 and the number of on pixels are counted in each block. This generates\n",
            "an input matrix of 8x8 where each element is an integer in the range\n",
            "0..16. This reduces dimensionality and gives invariance to small\n",
            "distortions.\n",
            "\n",
            "For info on NIST preprocessing routines, see M. D. Garris, J. L. Blue, G.\n",
            "T. Candela, D. L. Dimmick, J. Geist, P. J. Grother, S. A. Janet, and C.\n",
            "L. Wilson, NIST Form-Based Handprint Recognition System, NISTIR 5469,\n",
            "1994.\n",
            "\n",
            ".. topic:: References\n",
            "\n",
            "  - C. Kaynak (1995) Methods of Combining Multiple Classifiers and Their\n",
            "    Applications to Handwritten Digit Recognition, MSc Thesis, Institute of\n",
            "    Graduate Studies in Science and Engineering, Bogazici University.\n",
            "  - E. Alpaydin, C. Kaynak (1998) Cascading Classifiers, Kybernetika.\n",
            "  - Ken Tang and Ponnuthurai N. Suganthan and Xi Yao and A. Kai Qin.\n",
            "    Linear dimensionalityreduction using relevance weighted LDA. School of\n",
            "    Electrical and Electronic Engineering Nanyang Technological University.\n",
            "    2005.\n",
            "  - Claudio Gentile. A New Approximate Maximal Margin Classification\n",
            "    Algorithm. NIPS. 2000.\n",
            "\n"
          ]
        }
      ],
      "source": [
        "# Display the description on the data.\n",
        "print(data['DESCR'])"
      ]
    },
    {
      "cell_type": "code",
      "execution_count": 4,
      "metadata": {
        "id": "tsVp70wkIDQy",
        "colab": {
          "base_uri": "https://localhost:8080/"
        },
        "outputId": "3471e22a-745a-45e7-8990-a43e7f33692b"
      },
      "outputs": [
        {
          "output_type": "execute_result",
          "data": {
            "text/plain": [
              "(1797, 64)"
            ]
          },
          "metadata": {},
          "execution_count": 4
        }
      ],
      "source": [
        "# The explanatory variables.\n",
        "X = data.data\n",
        "X.shape"
      ]
    },
    {
      "cell_type": "code",
      "execution_count": 5,
      "metadata": {
        "id": "oJ6WHyzQIDQy",
        "colab": {
          "base_uri": "https://localhost:8080/"
        },
        "outputId": "030cc451-9ea6-4b0c-fdda-a2941451c44f"
      },
      "outputs": [
        {
          "output_type": "execute_result",
          "data": {
            "text/plain": [
              "(1797,)"
            ]
          },
          "metadata": {},
          "execution_count": 5
        }
      ],
      "source": [
        "# The response variable.\n",
        "Y = data.target\n",
        "Y.shape"
      ]
    },
    {
      "cell_type": "code",
      "execution_count": 6,
      "metadata": {
        "id": "sfFWnmZBIDQy"
      },
      "outputs": [],
      "source": [
        "# Define a visualization function.\n",
        "def show_data(X, Y, n, angle=0):\n",
        "    print(Y[n])\n",
        "    image_matrix = X[n,:].reshape((8,8))                                        # Reshape from 1D to 2D matrix.\n",
        "    image_matrix = rotate(image_matrix, angle, cval=0.01, reshape=False)        # Rotate if wanted.      \n",
        "    plt.figure(figsize = (10,2)) \n",
        "    plt.imshow(image_matrix, cmap='Greys',interpolation='None')\n",
        "    plt.show()\n"
      ]
    },
    {
      "cell_type": "code",
      "execution_count": 7,
      "metadata": {
        "id": "7uAddI-AIDQz",
        "colab": {
          "base_uri": "https://localhost:8080/",
          "height": 0
        },
        "outputId": "3a5ba8c2-15bf-431f-e84d-47bcb8caa59d"
      },
      "outputs": [
        {
          "output_type": "stream",
          "name": "stdout",
          "text": [
            "5\n"
          ]
        },
        {
          "output_type": "display_data",
          "data": {
            "text/plain": [
              "<Figure size 720x144 with 1 Axes>"
            ],
            "image/png": "[encoded data removed]"
          },
          "metadata": {
            "needs_background": "light"
          }
        },
        {
          "output_type": "stream",
          "name": "stdout",
          "text": [
            "9\n"
          ]
        },
        {
          "output_type": "display_data",
          "data": {
            "text/plain": [
              "<Figure size 720x144 with 1 Axes>"
            ],
            "image/png": "[encoded data removed]"
          },
          "metadata": {
            "needs_background": "light"
          }
        },
        {
          "output_type": "stream",
          "name": "stdout",
          "text": [
            "1\n"
          ]
        },
        {
          "output_type": "display_data",
          "data": {
            "text/plain": [
              "<Figure size 720x144 with 1 Axes>"
            ],
            "image/png": "[encoded data removed]"
          },
          "metadata": {
            "needs_background": "light"
          }
        }
      ],
      "source": [
        "#Vizualise some of your examples\n",
        "for i in [15,29,99]:\n",
        "    show_data(X,Y,i)"
      ]
    },
    {
      "cell_type": "markdown",
      "metadata": {
        "id": "g1DI33vfIDQz"
      },
      "source": [
        "#### 1.2. Data pre-processing:"
      ]
    },
    {
      "cell_type": "code",
      "execution_count": 8,
      "metadata": {
        "id": "HH-zy4QFIDQ0",
        "colab": {
          "base_uri": "https://localhost:8080/"
        },
        "outputId": "644182af-a0dd-4b4a-9129-b2416a741bf7"
      },
      "outputs": [
        {
          "output_type": "execute_result",
          "data": {
            "text/plain": [
              "array([[0.    , 0.    , 0.3125, ..., 0.    , 0.    , 0.    ],\n",
              "       [0.    , 0.    , 0.    , ..., 0.625 , 0.    , 0.    ],\n",
              "       [0.    , 0.    , 0.    , ..., 1.    , 0.5625, 0.    ],\n",
              "       ...,\n",
              "       [0.    , 0.    , 0.0625, ..., 0.375 , 0.    , 0.    ],\n",
              "       [0.    , 0.    , 0.125 , ..., 0.75  , 0.    , 0.    ],\n",
              "       [0.    , 0.    , 0.625 , ..., 0.75  , 0.0625, 0.    ]])"
            ]
          },
          "metadata": {},
          "execution_count": 8
        }
      ],
      "source": [
        "# Min-Max scaling to the whole dataset and tell why is it important\n",
        "X_min = X.min()\n",
        "X_max = X.max()\n",
        "X_range = X_max - X_min\n",
        "X = (X - X_min) / X_range\n",
        "X"
      ]
    },
    {
      "cell_type": "code",
      "execution_count": 9,
      "metadata": {
        "id": "cGL_G5t_IDQ0"
      },
      "outputs": [],
      "source": [
        "#Split your dataset with random state = 1234 and test size is 30%\n",
        "X_train, X_test, Y_train, Y_test = train_test_split(X, Y, test_size=0.3, random_state=1234)"
      ]
    },
    {
      "cell_type": "markdown",
      "metadata": {
        "id": "sHaHO30mIDQ0"
      },
      "source": [
        "#### 1.3. Classification with Tree (optimized hyperparameters):"
      ]
    },
    {
      "cell_type": "markdown",
      "metadata": {
        "id": "AM2tbCtdIDQ1"
      },
      "source": [
        "NOTE: We optimize only some of the hyperparameters due to time considerataion. Students are encouraged to explore."
      ]
    },
    {
      "cell_type": "code",
      "execution_count": 10,
      "metadata": {
        "id": "pSMyS9gOIDQ1"
      },
      "outputs": [],
      "source": [
        "depth_grid = [1, 20]\n",
        "min_samples_leaf_grid =  [2, 30] #use only even number\n",
        "max_leaf_nodes_grid = [2, 50] #use only even number\n",
        "parameters = {'max_depth':depth_grid, 'min_samples_leaf':min_samples_leaf_grid, 'max_leaf_nodes':max_leaf_nodes_grid}"
      ]
    },
    {
      "cell_type": "code",
      "execution_count": 11,
      "metadata": {
        "id": "MwHYRWfkIDQ2"
      },
      "outputs": [],
      "source": [
        "#Using Grid Search, find the best parameters with cv = 10\n",
        "gridCV = 10\n",
        "#Train step\n",
        "model = DecisionTreeClassifier()\n",
        "clf = GridSearchCV(model, parameters, cv=gridCV)\n",
        "clf.fit(X_train, Y_train)\n",
        "#Select the best parameters\n",
        "best_depth = clf.best_params_['max_depth']\n",
        "best_min_samples_leaf = clf.best_params_['min_samples_leaf']\n",
        "best_max_leaf_nodes = clf.best_params_['max_leaf_nodes']\n"
      ]
    },
    {
      "cell_type": "code",
      "execution_count": 12,
      "metadata": {
        "id": "lkRDk8KQIDQ3",
        "colab": {
          "base_uri": "https://localhost:8080/"
        },
        "outputId": "c0052ac8-2271-45c2-f078-189e3e5fda06"
      },
      "outputs": [
        {
          "output_type": "stream",
          "name": "stdout",
          "text": [
            "Tree best max_depth : 20\n",
            "Tree best min_samples_leaf : 2\n",
            "Tree best max_leaf_nodes : 50\n"
          ]
        }
      ],
      "source": [
        "print(\"Tree best max_depth : \" + str(best_depth))\n",
        "print(\"Tree best min_samples_leaf : \" + str(best_min_samples_leaf))\n",
        "print(\"Tree best max_leaf_nodes : \" + str(best_max_leaf_nodes))"
      ]
    },
    {
      "cell_type": "code",
      "execution_count": 13,
      "metadata": {
        "id": "SrDko0XcIDQ3",
        "colab": {
          "base_uri": "https://localhost:8080/"
        },
        "outputId": "9363fb16-e8f6-49fd-e869-3a7fe4be45f9"
      },
      "outputs": [
        {
          "output_type": "stream",
          "name": "stdout",
          "text": [
            "Tree best accuracy : 0.8425925925925926\n"
          ]
        }
      ],
      "source": [
        "#Now tha you ve found the best parameters, try it with the descision tree\n",
        "DTC_best = DecisionTreeClassifier(max_depth = best_depth, min_samples_leaf=best_min_samples_leaf, max_leaf_nodes=best_max_leaf_nodes)\n",
        "#Train part\n",
        "DTC_best = DTC_best.fit(X_train, Y_train)\n",
        "#Predict the X_test\n",
        "Y_pred = DTC_best.predict(X_test)\n",
        "\n",
        "#\\Calculate the accuracy\n",
        "print(f\"Tree best accuracy : {DTC_best.score(X_test, Y_test)}\")"
      ]
    },
    {
      "cell_type": "markdown",
      "metadata": {
        "id": "zSUtFZPbIDQ3"
      },
      "source": [
        "#### 1.4. Classification with Random Forest (optimized hyperparameters):"
      ]
    },
    {
      "cell_type": "markdown",
      "metadata": {
        "id": "5OxlVt3yIDQ4"
      },
      "source": [
        "NOTE: We optimize only some of the hyperparameters due to time considerataion. Students are encouraged to explore."
      ]
    },
    {
      "cell_type": "code",
      "execution_count": 14,
      "metadata": {
        "id": "MeLQg_2rIDQ5"
      },
      "outputs": [],
      "source": [
        "n_estimators_grid = [20, 50] #only even numbers\n",
        "depth_grid =  [1, 9]\n",
        "min_samples_leaf_grid = [10, 20] #only even numbers\n",
        "parameters = {'n_estimators': n_estimators_grid, 'max_depth': depth_grid, 'min_samples_leaf':min_samples_leaf_grid}\n",
        "\n",
        "#Using Grid Search, find the best parameters with cv = 10\n",
        "gridCV = 10\n",
        "\n",
        "#Train part\n",
        "model = RandomForestClassifier()\n",
        "clf = GridSearchCV(model, parameters, cv=gridCV)\n",
        "clf.fit(X_train, Y_train)\n",
        "#Select the best parameters\n",
        "\n",
        "best_n_estim = clf.best_params_['n_estimators']\n",
        "best_depth = clf.best_params_['max_depth']\n",
        "best_min_samples_leaf = clf.best_params_['min_samples_leaf']"
      ]
    },
    {
      "cell_type": "code",
      "execution_count": 15,
      "metadata": {
        "id": "SpXrZ5TKIDQ5",
        "colab": {
          "base_uri": "https://localhost:8080/"
        },
        "outputId": "477f2d2c-8fdd-4041-c54f-f466c921a9ef"
      },
      "outputs": [
        {
          "output_type": "stream",
          "name": "stdout",
          "text": [
            "Random Forest best n_estimator : 50\n",
            "Random Forest best max_depth : 9\n",
            "Random Forest best min_samples_leaf : 10\n"
          ]
        }
      ],
      "source": [
        "print(\"Random Forest best n_estimator : \" + str(best_n_estim))\n",
        "print(\"Random Forest best max_depth : \" + str(best_depth))\n",
        "print(\"Random Forest best min_samples_leaf : \" + str(best_min_samples_leaf))"
      ]
    },
    {
      "cell_type": "code",
      "execution_count": 16,
      "metadata": {
        "id": "9RRvlOXmIDQ6",
        "colab": {
          "base_uri": "https://localhost:8080/"
        },
        "outputId": "cafddd84-5db9-4cbf-c4dc-46fec3018d67"
      },
      "outputs": [
        {
          "output_type": "stream",
          "name": "stdout",
          "text": [
            "Random Forest best accuracy : 0.937\n"
          ]
        }
      ],
      "source": [
        "#Now tha you ve found the best parameters, try it with Random Forest\n",
        "RF_best = RandomForestClassifier(n_estimators=best_n_estim,max_depth=best_depth, min_samples_leaf=best_min_samples_leaf)\n",
        "\n",
        "#Train part\n",
        "RF_best = RF_best.fit(X_train, Y_train)\n",
        "\n",
        "Y_pred = RF_best.predict(X_test)\n",
        "print( \"Random Forest best accuracy : \" + str(np.round(metrics.accuracy_score(Y_test,Y_pred),3)))"
      ]
    },
    {
      "cell_type": "markdown",
      "metadata": {
        "id": "42EGzJsWIDQ6"
      },
      "source": [
        "#### 1.5. Classification with AdaBoost (optimized hyperparameters):"
      ]
    },
    {
      "cell_type": "markdown",
      "metadata": {
        "id": "xoKSprq_IDQ6"
      },
      "source": [
        "NOTE: We optimize only some of the hyperparameters due to time considerataion. Students are encouraged to explore."
      ]
    },
    {
      "cell_type": "code",
      "execution_count": 17,
      "metadata": {
        "id": "CjcVtwG8IDQ7"
      },
      "outputs": [],
      "source": [
        "my_max_depth = 20                                               # Fixed.\n",
        "my_learn_rate = 0.01                                           # Fixed.\n",
        "n_estimators_grid = np.arange(50,80,2) #only even numbers\n",
        "parameters = {'n_estimators': n_estimators_grid}\n",
        "\n",
        "AB = AdaBoostClassifier(learning_rate = my_learn_rate)      # Instantiate an estimator. add the parameters\n",
        "gridCV = 20\n",
        "\n",
        "#Train part\n",
        "model = GridSearchCV(AB, parameters, cv=gridCV)\n",
        "model.fit(X_train, Y_train)\n",
        "#Get best parameters\n",
        "best_n_estim = model.best_params_['n_estimators']"
      ]
    },
    {
      "cell_type": "code",
      "execution_count": 18,
      "metadata": {
        "id": "CNuuCuRHIDQ7",
        "colab": {
          "base_uri": "https://localhost:8080/"
        },
        "outputId": "2c64d054-4138-4b12-816e-2d5a38dc03c4"
      },
      "outputs": [
        {
          "output_type": "stream",
          "name": "stdout",
          "text": [
            "AdaBoost best n estimator : 78\n"
          ]
        }
      ],
      "source": [
        "print(\"AdaBoost best n estimator : \" + str(best_n_estim))"
      ]
    },
    {
      "cell_type": "code",
      "execution_count": 19,
      "metadata": {
        "id": "3uqAT8MZIDQ7",
        "colab": {
          "base_uri": "https://localhost:8080/"
        },
        "outputId": "72797d38-9333-445c-ab8c-9461dc68f41f"
      },
      "outputs": [
        {
          "output_type": "stream",
          "name": "stdout",
          "text": [
            "AdaBoost best accuracy : 0.7037037037037037\n"
          ]
        }
      ],
      "source": [
        "#Train using best parameters\n",
        "AB_best = AdaBoostClassifier(n_estimators=best_n_estim, learning_rate= my_learn_rate)\n",
        "\n",
        "#Train Part\n",
        "AB_best = AB_best.fit(X_train,Y_train)\n",
        "#Predict\n",
        "Y_pred = AB_best.predict(X_test)\n",
        "\n",
        "#Calculate the accuracy\n",
        "print(f\"AdaBoost best accuracy : {AB_best.score(X_test,Y_test)}\" )"
      ]
    }
  ],
  "metadata": {
    "kernelspec": {
      "display_name": "Python 3",
      "language": "python",
      "name": "python3"
    },
    "language_info": {
      "codemirror_mode": {
        "name": "ipython",
        "version": 3
      },
      "file_extension": ".py",
      "mimetype": "text/x-python",
      "name": "python",
      "nbconvert_exporter": "python",
      "pygments_lexer": "ipython3",
      "version": "3.8.8"
    },
    "colab": {
      "provenance": [],
      "collapsed_sections": [
        "EDYP6PDJIDQx",
        "g1DI33vfIDQz"
      ]
    }
  },
  "nbformat": 4,
  "nbformat_minor": 0
}